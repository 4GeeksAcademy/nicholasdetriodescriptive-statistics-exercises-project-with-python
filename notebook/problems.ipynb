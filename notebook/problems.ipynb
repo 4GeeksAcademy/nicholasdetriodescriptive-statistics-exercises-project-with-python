{
    "cells": [
        {
            "cell_type": "markdown",
            "id": "ac622319",
            "metadata": {},
            "source": [
                "# Descriptive statistics problems"
            ]
        },
        {
            "cell_type": "markdown",
            "id": "aa8993e4",
            "metadata": {},
            "source": [
                "### Exercise 1"
            ]
        },
        {
            "cell_type": "markdown",
            "id": "5e0ab0d5",
            "metadata": {},
            "source": [
                "We will use Numpy to obtain information to describe statistically.\n",
                "\n",
                "- Generate an array of 100 elements following a normal distribution.\n",
                "- Generate an array of 100 elements following a chi-square distribution with 3 degrees of freedom.\n",
                "- Calculate the main metrics and statistical measures that best describe the two vectors."
            ]
        },
        {
            "cell_type": "code",
            "execution_count": 71,
            "id": "34720ab6",
            "metadata": {},
            "outputs": [],
            "source": [
                "# TODO\n",
                "\n",
                "import statistics as stats\n",
                "import numpy as np\n",
                "\n",
                "#declare arrays\n",
                "normal_distribution = np.random.normal(size = 100)\n",
                "chisquare_distribution = np.random.chisquare(3,100)"
            ]
        },
        {
            "cell_type": "code",
            "execution_count": 72,
            "id": "2f54760d",
            "metadata": {},
            "outputs": [
                {
                    "name": "stdout",
                    "output_type": "stream",
                    "text": [
                        "Min of Normal Distribution\n",
                        "-2.7944064499024175\n",
                        "Min of Chisquare Distribution\n",
                        "0.06158935117769983\n"
                    ]
                }
            ],
            "source": [
                "#Min\n",
                "normal_min = min(normal_distribution)\n",
                "chisquare_min = min(chisquare_distribution)\n",
                "\n",
                "print(\"Min of Normal Distribution\")\n",
                "print(normal_min)\n",
                "\n",
                "print(\"Min of Chisquare Distribution\")\n",
                "print(chisquare_min)"
            ]
        },
        {
            "cell_type": "code",
            "execution_count": 73,
            "id": "e5e1c44f",
            "metadata": {},
            "outputs": [
                {
                    "name": "stdout",
                    "output_type": "stream",
                    "text": [
                        "Max Normal Distribution\n",
                        "2.1245167104213816\n",
                        "Max Chisquare Distribution\n",
                        "12.965901495191591\n"
                    ]
                }
            ],
            "source": [
                "#Max\n",
                "normal_max = max(normal_distribution)\n",
                "chisquare_max = max(chisquare_distribution)\n",
                "\n",
                "print(\"Max Normal Distribution\")\n",
                "print(normal_max)\n",
                "\n",
                "print(\"Max Chisquare Distribution\")\n",
                "print(chisquare_max)"
            ]
        },
        {
            "cell_type": "code",
            "execution_count": 74,
            "id": "351b0461",
            "metadata": {},
            "outputs": [
                {
                    "name": "stdout",
                    "output_type": "stream",
                    "text": [
                        "Mean Normal Distribution\n",
                        "-0.05443703325097583\n",
                        "Mean Chisquare Distribution\n",
                        "2.9087656597314777\n"
                    ]
                }
            ],
            "source": [
                "#mean\n",
                "normal_mean = stats.mean(normal_distribution)\n",
                "chisquare_mean = stats.mean(chisquare_distribution)\n",
                "\n",
                "print(\"Mean Normal Distribution\")\n",
                "print(normal_mean)\n",
                "\n",
                "print(\"Mean Chisquare Distribution\")\n",
                "print(chisquare_mean)"
            ]
        },
        {
            "cell_type": "code",
            "execution_count": 75,
            "id": "b758247a",
            "metadata": {},
            "outputs": [
                {
                    "name": "stdout",
                    "output_type": "stream",
                    "text": [
                        "Median Normal Distribution\n",
                        "0.003898408646040399\n",
                        "Median Chisquare Distribution\n",
                        "2.3333714546736415\n"
                    ]
                }
            ],
            "source": [
                "#median\n",
                "normal_median = stats.median(normal_distribution)\n",
                "chisquare_median = stats.median(chisquare_distribution)\n",
                "\n",
                "print(\"Median Normal Distribution\")\n",
                "print(normal_median)\n",
                "\n",
                "print(\"Median Chisquare Distribution\")\n",
                "print(chisquare_median)"
            ]
        },
        {
            "cell_type": "code",
            "execution_count": 76,
            "id": "446093e4",
            "metadata": {},
            "outputs": [
                {
                    "name": "stdout",
                    "output_type": "stream",
                    "text": [
                        "Mode Normal Distribution\n",
                        "0.218629300890974\n",
                        "Mode Chisquare Distribution\n",
                        "0.1560520355269766\n"
                    ]
                }
            ],
            "source": [
                "#mode\n",
                "normal_mode = stats.mode(normal_distribution)\n",
                "chisquare_mode = stats.mode(chisquare_distribution)\n",
                "\n",
                "print(\"Mode Normal Distribution\")\n",
                "print(normal_mode)\n",
                "\n",
                "print(\"Mode Chisquare Distribution\")\n",
                "print(chisquare_mode)"
            ]
        },
        {
            "cell_type": "code",
            "execution_count": 77,
            "id": "1076fc82",
            "metadata": {},
            "outputs": [
                {
                    "name": "stdout",
                    "output_type": "stream",
                    "text": [
                        "Range Normal Distribution\n",
                        "4.918923160323799\n",
                        "Range Chisquare Distribution\n",
                        "12.904312144013891\n"
                    ]
                }
            ],
            "source": [
                "#range\n",
                "normal_range = normal_max-normal_min\n",
                "chisquare_range = chisquare_max-chisquare_min\n",
                "\n",
                "print(\"Range Normal Distribution\")\n",
                "print(normal_range)\n",
                "\n",
                "print(\"Range Chisquare Distribution\")\n",
                "print(chisquare_range)"
            ]
        },
        {
            "cell_type": "code",
            "execution_count": 78,
            "id": "e079d004",
            "metadata": {},
            "outputs": [
                {
                    "name": "stdout",
                    "output_type": "stream",
                    "text": [
                        "Variance Normal Distribution\n",
                        "0.9033521308438954\n",
                        "Variance Chisquare Distribution\n",
                        "6.7760557402463775\n"
                    ]
                }
            ],
            "source": [
                "#variance\n",
                "normal_variance = stats.variance(normal_distribution)\n",
                "chisquare_variance = stats.variance(chisquare_distribution)\n",
                "\n",
                "print(\"Variance Normal Distribution\")\n",
                "print(normal_variance)\n",
                "\n",
                "print(\"Variance Chisquare Distribution\")\n",
                "print(chisquare_variance)"
            ]
        },
        {
            "cell_type": "code",
            "execution_count": 79,
            "id": "7faf3ce8",
            "metadata": {},
            "outputs": [
                {
                    "name": "stdout",
                    "output_type": "stream",
                    "text": [
                        "Standard Deviation Normal Distribution\n",
                        "0.950448384102943\n",
                        "Standard Deviation Chisquare Distribution\n",
                        "2.6030858111569004\n"
                    ]
                }
            ],
            "source": [
                "#Standard Deviation\n",
                "\n",
                "normal_standard_deviation = stats.stdev(normal_distribution)\n",
                "chisquare_standard_deviation = stats.stdev(chisquare_distribution)\n",
                "\n",
                "print(\"Standard Deviation Normal Distribution\")\n",
                "print(normal_standard_deviation)\n",
                "\n",
                "print(\"Standard Deviation Chisquare Distribution\")\n",
                "print(chisquare_standard_deviation)\n"
            ]
        },
        {
            "cell_type": "code",
            "execution_count": 80,
            "id": "f3568850",
            "metadata": {},
            "outputs": [
                {
                    "name": "stdout",
                    "output_type": "stream",
                    "text": [
                        "Skew Normal Distribution\n",
                        "-0.2210336697406829\n",
                        "Skew Chisquare Distribution\n"
                    ]
                },
                {
                    "data": {
                        "text/plain": [
                            "1.82177553152592"
                        ]
                    },
                    "execution_count": 80,
                    "metadata": {},
                    "output_type": "execute_result"
                }
            ],
            "source": [
                "#skewness\n",
                "from scipy.stats import skew\n",
                "\n",
                "normal_skew = skew(normal_distribution)\n",
                "chisquare_skew = skew(chisquare_distribution)\n",
                "\n",
                "print(\"Skew Normal Distribution\")\n",
                "print(normal_skew)\n",
                "\n",
                "print(\"Skew Chisquare Distribution\")\n",
                "chisquare_skew\n"
            ]
        },
        {
            "cell_type": "code",
            "execution_count": 81,
            "id": "2abee55b",
            "metadata": {},
            "outputs": [
                {
                    "name": "stdout",
                    "output_type": "stream",
                    "text": [
                        "Kurtosis Normal Distribution\n",
                        "0.41585197579664124\n",
                        "Kurtosis Chisquare Distribution\n"
                    ]
                },
                {
                    "data": {
                        "text/plain": [
                            "3.6361609198051763"
                        ]
                    },
                    "execution_count": 81,
                    "metadata": {},
                    "output_type": "execute_result"
                }
            ],
            "source": [
                "#kurtosis\n",
                "from scipy.stats import kurtosis\n",
                "\n",
                "normal_kurtosis= kurtosis(normal_distribution)\n",
                "chisquare_kurtosis = kurtosis(chisquare_distribution)\n",
                "\n",
                "print(\"Kurtosis Normal Distribution\")\n",
                "print(normal_kurtosis)\n",
                "\n",
                "print(\"Kurtosis Chisquare Distribution\")\n",
                "chisquare_kurtosis"
            ]
        },
        {
            "cell_type": "markdown",
            "id": "46c70c3d",
            "metadata": {},
            "source": [
                "### Exercise 2\n",
                "\n",
                "Write a Python program to calculate the standard deviation of the following data:\n",
                "\n",
                "```py\n",
                "data = [4, 2, 5, 8, 6]\n",
                "```"
            ]
        },
        {
            "cell_type": "code",
            "execution_count": 93,
            "id": "d590308e",
            "metadata": {},
            "outputs": [
                {
                    "name": "stdout",
                    "output_type": "stream",
                    "text": [
                        "The Standard Deviation of the data set is: 2.0\n"
                    ]
                }
            ],
            "source": [
                "import math\n",
                "\n",
                "# use for loop\n",
                "# can create a function to be able to use later\n",
                "#for i,element in enumerate(data)\n",
                "\n",
                "data = [4, 2, 5, 8, 6]\n",
                "\n",
                "#test for fun\n",
                "#data2 = [5,9,12,52,17,44,73]\n",
                "\n",
                "#standard deviation steps\n",
                "\n",
                "def standard_deviation_calculator(data):\n",
                "\n",
                "    #find the mean\n",
                "    mean = sum(data) / len(data)\n",
                "    \n",
                "    #initialize variable for the sum of all the squares found\n",
                "    sum_of_squares = 0\n",
                "\n",
                "    #for each data point, find the square of its distance to the mean and add it to the sum of squares variable\n",
                "    for element in data:    \n",
                "        sum_of_squares += (element - mean) ** 2\n",
                "\n",
                "    #divide the sum of squares by the number of data points and take the square root\n",
                "    standard_deviation = math.sqrt(sum_of_squares/len(data))\n",
                "    \n",
                "    return standard_deviation\n",
                "\n",
                "SD_data = standard_deviation_calculator(data)\n",
                "print(f\"The Standard Deviation of the data set is: {SD_data}\")\n",
                "\n",
                "#SD_data2 = standard_deviation_calculator(data2)\n",
                "#print(f\"The Standard Deviation of the data2 set is: {SD_data2}\")"
            ]
        }
    ],
    "metadata": {
        "interpreter": {
            "hash": "9248718ffe6ce6938b217e69dbcc175ea21f4c6b28a317e96c05334edae734bb"
        },
        "kernelspec": {
            "display_name": "Python 3.9.12 ('ML-BOOTCAMP')",
            "language": "python",
            "name": "python3"
        },
        "language_info": {
            "codemirror_mode": {
                "name": "ipython",
                "version": 3
            },
            "file_extension": ".py",
            "mimetype": "text/x-python",
            "name": "python",
            "nbconvert_exporter": "python",
            "pygments_lexer": "ipython3",
            "version": "3.11.4"
        }
    },
    "nbformat": 4,
    "nbformat_minor": 5
}
